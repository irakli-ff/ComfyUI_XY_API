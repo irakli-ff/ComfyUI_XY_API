{
 "cells": [
  {
   "cell_type": "code",
   "execution_count": 1,
   "id": "c549985a",
   "metadata": {},
   "outputs": [],
   "source": [
    "import json\n",
    "from urllib import request, parse\n",
    "import random\n",
    "import pandas as pd"
   ]
  },
  {
   "cell_type": "code",
   "execution_count": 2,
   "id": "ef30930e",
   "metadata": {},
   "outputs": [],
   "source": [
    "# Load the JSON data\n",
    "with open(\"xyz_template.json\", \"r\") as file:\n",
    "    original_data = json.load(file)"
   ]
  },
  {
   "cell_type": "code",
   "execution_count": 3,
   "id": "ae48e0a6",
   "metadata": {},
   "outputs": [],
   "source": [
    "df = pd.read_csv(\"inputs_1.csv\")"
   ]
  },
  {
   "cell_type": "code",
   "execution_count": 4,
   "id": "d1c98149",
   "metadata": {},
   "outputs": [],
   "source": [
    "def queue_prompt(prompt):\n",
    "    p = {\"prompt\": prompt}\n",
    "    data = json.dumps(p).encode('utf-8')\n",
    "    req =  request.Request(\"http://127.0.0.1:8188/prompt\", data=data)\n",
    "    request.urlopen(req)"
   ]
  },
  {
   "cell_type": "code",
   "execution_count": 5,
   "id": "07135b18",
   "metadata": {},
   "outputs": [],
   "source": [
    "# Loop through all rows in the DataFrame\n",
    "for index, row in df.iterrows():\n",
    "    data = original_data.copy()  # Make a copy of the original data to ensure you're not overwriting changes\n",
    "    \n",
    "    # Assign values from the CSV to the variables\n",
    "    ckpt_name = row['ckpt_name']\n",
    "    clip_skip = int(row['clip_skip'])\n",
    "    positive = row['positive']\n",
    "    negative = row['negative']\n",
    "    empty_latent_width = int(row['empty_latent_width'])\n",
    "    empty_latent_height = int(row['empty_latent_height'])\n",
    "    noise_seed = int(row['noise_seed'])\n",
    "    steps = int(row['steps'])\n",
    "    cfg = float(row['cfg'])\n",
    "    sampler_name = row['sampler_name']\n",
    "    scheduler = row['scheduler']\n",
    "\n",
    "    # Update the dictionary\n",
    "    data[\"1\"][\"inputs\"][\"ckpt_name\"] = ckpt_name\n",
    "    data[\"1\"][\"inputs\"][\"clip_skip\"] = clip_skip\n",
    "    data[\"1\"][\"inputs\"][\"positive\"] = positive\n",
    "    data[\"1\"][\"inputs\"][\"negative\"] = negative\n",
    "    data[\"1\"][\"inputs\"][\"empty_latent_width\"] = empty_latent_width\n",
    "    data[\"1\"][\"inputs\"][\"empty_latent_height\"] = empty_latent_height\n",
    "    data[\"2\"][\"inputs\"][\"noise_seed\"] = noise_seed\n",
    "    data[\"2\"][\"inputs\"][\"steps\"] = steps\n",
    "    data[\"2\"][\"inputs\"][\"cfg\"] = cfg\n",
    "    data[\"2\"][\"inputs\"][\"sampler_name\"] = sampler_name\n",
    "    data[\"2\"][\"inputs\"][\"scheduler\"] = scheduler\n",
    "    \n",
    "    # Call queue_prompt\n",
    "    queue_prompt(data)"
   ]
  },
  {
   "cell_type": "code",
   "execution_count": null,
   "id": "405860c8",
   "metadata": {},
   "outputs": [],
   "source": []
  }
 ],
 "metadata": {
  "kernelspec": {
   "display_name": "Python 3 (ipykernel)",
   "language": "python",
   "name": "python3"
  },
  "language_info": {
   "codemirror_mode": {
    "name": "ipython",
    "version": 3
   },
   "file_extension": ".py",
   "mimetype": "text/x-python",
   "name": "python",
   "nbconvert_exporter": "python",
   "pygments_lexer": "ipython3",
   "version": "3.10.10"
  }
 },
 "nbformat": 4,
 "nbformat_minor": 5
}
